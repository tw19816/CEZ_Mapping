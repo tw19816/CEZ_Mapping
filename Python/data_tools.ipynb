{
 "cells": [
  {
   "attachments": {},
   "cell_type": "markdown",
   "metadata": {},
   "source": [
    "# Dataset Setup\n",
    "\n",
    "IMPORTANT:\n",
    "\n",
    "This will create more than 500 images.\n",
    "\n",
    "It needs to be run ONCE ONLY!!!!\n",
    "\n",
    "Unless you need a new dataset, but make sure to update the paths."
   ]
  },
  {
   "attachments": {},
   "cell_type": "markdown",
   "metadata": {},
   "source": [
    "### Imports"
   ]
  },
  {
   "cell_type": "code",
   "execution_count": 2,
   "metadata": {},
   "outputs": [
    {
     "name": "stderr",
     "output_type": "stream",
     "text": [
      "2023-04-08 11:02:43.745898: I tensorflow/core/platform/cpu_feature_guard.cc:193] This TensorFlow binary is optimized with oneAPI Deep Neural Network Library (oneDNN) to use the following CPU instructions in performance-critical operations:  AVX2 FMA\n",
      "To enable them in other operations, rebuild TensorFlow with the appropriate compiler flags.\n",
      "2023-04-08 11:02:44.850229: W tensorflow/compiler/xla/stream_executor/platform/default/dso_loader.cc:64] Could not load dynamic library 'libnvinfer.so.7'; dlerror: libnvinfer.so.7: cannot open shared object file: No such file or directory; LD_LIBRARY_PATH: :/lib/:/home/vidarmarsh/miniconda3/envs/tf/lib/\n",
      "2023-04-08 11:02:44.850366: W tensorflow/compiler/xla/stream_executor/platform/default/dso_loader.cc:64] Could not load dynamic library 'libnvinfer_plugin.so.7'; dlerror: libnvinfer_plugin.so.7: cannot open shared object file: No such file or directory; LD_LIBRARY_PATH: :/lib/:/home/vidarmarsh/miniconda3/envs/tf/lib/\n",
      "2023-04-08 11:02:44.850373: W tensorflow/compiler/tf2tensorrt/utils/py_utils.cc:38] TF-TRT Warning: Cannot dlopen some TensorRT libraries. If you would like to use Nvidia GPU with TensorRT, please make sure the missing libraries mentioned above are installed properly.\n"
     ]
    }
   ],
   "source": [
    "import sys\n",
    "import os\n",
    "from config import Config\n",
    "sys.path.append(Config.root_path)\n",
    "\n",
    "import numpy as np\n",
    "from Python.data_processing.image_tools import create_greyscale_masks\n",
    "from Python.data_processing.image_tools import split_png_images_in_four_from_dir\n",
    "from Python.data_processing.image_tools import load_image\n",
    "from Python.data_processing.utils import create_weight_map\n",
    "from Python.data_processing.utils import get_png_paths_from_dir\n",
    "from Python.data_processing.utils import split_dataset_paths\n",
    "from Python.data_processing.save_model import write_dict_to_disk"
   ]
  },
  {
   "attachments": {},
   "cell_type": "markdown",
   "metadata": {},
   "source": [
    "### Step 1\n",
    "Covert masks from categorical RGB encoding to categorical greyscale encoding "
   ]
  },
  {
   "cell_type": "code",
   "execution_count": null,
   "metadata": {},
   "outputs": [],
   "source": [
    "# Path to directory containing RGB encoded segmentation masks\n",
    "rgb_mask_path = os.path.join(\n",
    "    Config.root_path,\n",
    "    r\"Data/Priddy_raw/SegmentationClass\"\n",
    ")\n",
    "# Path to output directory for categorical greyscale segmentation masks\n",
    "output_mask_path = os.path.join(\n",
    "    Config.root_path,\n",
    "    r\"Data/Priddy_processed/SegmentationClass_categorical\"\n",
    ")\n",
    "# Path to json file containing class <-> RGB conversions\n",
    "class_rgb_path = os.path.join(\n",
    "    Config.root_path,\n",
    "    r\"Data/Priddy_raw/class_RGB.json\"\n",
    ")\n",
    "# Path to json file containing class <-> greyscale conversions\n",
    "class_greyscale_path = os.path.join(\n",
    "    Config.root_path,\n",
    "    r\"Data/Priddy_raw/class_categorical.json\"\n",
    ")\n",
    "create_greyscale_masks(\n",
    "    rgb_mask_path, output_mask_path, class_rgb_path, class_greyscale_path\n",
    ")"
   ]
  },
  {
   "attachments": {},
   "cell_type": "markdown",
   "metadata": {},
   "source": [
    "### Step 2\n",
    "Split images into 4"
   ]
  },
  {
   "cell_type": "code",
   "execution_count": null,
   "metadata": {},
   "outputs": [],
   "source": [
    "# Path to directory containing full size images\n",
    "image_dir_path = os.path.join(\n",
    "    Config.root_path, \n",
    "    r\"Data/Priddy_raw/JPEGImages\"\n",
    ")\n",
    "# Path to output directory for split images\n",
    "output_dir_path = os.path.join(\n",
    "    Config.root_path, \n",
    "    r\"Data/Priddy_raw/JPEGImages_512\"\n",
    ")\n",
    "split_png_images_in_four_from_dir(image_dir_path, output_dir_path)"
   ]
  },
  {
   "attachments": {},
   "cell_type": "markdown",
   "metadata": {},
   "source": [
    "### Step 3\n",
    "Create json file with dataset filepaths partitioned in train, validation, and test, which each partition containing a fraction of the total images + segmentation masks. Create weight mask for training dataset and store in json file."
   ]
  },
  {
   "cell_type": "code",
   "execution_count": 5,
   "metadata": {},
   "outputs": [],
   "source": [
    "# Path to directory containing all 512 pixel images\n",
    "image_512_dir_path = os.path.join(\n",
    "    Config.root_path,\n",
    "    \"Data\",\n",
    "    \"Priddy_processed\",\n",
    "    \"JPEGImages_512\"\n",
    ")\n",
    "# Path to directory containing all 512 pixel segmentation masks\n",
    "mask_512_dir_path = os.path.join(\n",
    "    Config.root_path,\n",
    "    \"Data\",\n",
    "    \"Priddy_processed\",\n",
    "    \"SegmentationClass_categorical_512\"\n",
    ")\n",
    "# Save path for partition json file\n",
    "partition_path = os.path.join(\n",
    "    Config.root_path,\n",
    "    \"Data\",\n",
    "    \"Priddy_processed\",\n",
    "    \"dataset_partition_2.json\"\n",
    ")\n",
    "# Save path for weight map json file\n",
    "weight_map_path = os.path.join(\n",
    "    Config.root_path,\n",
    "    \"Data\",\n",
    "    \"Priddy_processed\",\n",
    "    \"weights_2.json\"\n",
    ")\n",
    "# Create partition\n",
    "image_filenames =[\n",
    "    os.path.split(path)[1] for path in get_png_paths_from_dir(image_512_dir_path)\n",
    "]\n",
    "mask_filenames = [\n",
    "    os.path.split(path)[1] for path in get_png_paths_from_dir(mask_512_dir_path)\n",
    "]\n",
    "\n",
    "train, val, test = split_dataset_paths(\n",
    "    image_filenames,\n",
    "    mask_filenames,\n",
    "    Config.train_size,\n",
    "    Config.val_size,\n",
    "    Config.test_size\n",
    ")\n",
    "partition = {\"train\": train, \"validation\": val, \"test\": test}\n",
    "write_dict_to_disk(partition, partition_path)\n",
    "# Create weight masks\n",
    "train_mask_paths = [\n",
    "    os.path.join(mask_512_dir_path, mask) for mask in train[1]\n",
    "]\n",
    "masks = [load_image(img) for img in train_mask_paths]\n",
    "mask_dataset = np.array(masks, dtype=np.float32)\n",
    "weight_mask = create_weight_map(mask_dataset)\n",
    "write_dict_to_disk(weight_mask, weight_map_path)"
   ]
  }
 ],
 "metadata": {
  "kernelspec": {
   "display_name": "tf",
   "language": "python",
   "name": "python3"
  },
  "language_info": {
   "codemirror_mode": {
    "name": "ipython",
    "version": 3
   },
   "file_extension": ".py",
   "mimetype": "text/x-python",
   "name": "python",
   "nbconvert_exporter": "python",
   "pygments_lexer": "ipython3",
   "version": "3.10.9"
  },
  "orig_nbformat": 4
 },
 "nbformat": 4,
 "nbformat_minor": 2
}
