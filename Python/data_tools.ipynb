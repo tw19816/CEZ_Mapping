{
 "cells": [
  {
   "attachments": {},
   "cell_type": "markdown",
   "metadata": {},
   "source": [
    "# Dataset Setup\n",
    "\n",
    "IMPORTANT:\n",
    "\n",
    "This will create more than 500 images.\n",
    "\n",
    "It needs to be run ONCE ONLY!!!!\n",
    "\n",
    "Unless you need a new dataset, but make sure to update the path."
   ]
  },
  {
   "attachments": {},
   "cell_type": "markdown",
   "metadata": {},
   "source": [
    "### Imports"
   ]
  },
  {
   "cell_type": "code",
   "execution_count": 3,
   "metadata": {},
   "outputs": [],
   "source": [
    "import sys\n",
    "import os\n",
    "from config import Config\n",
    "sys.path.append(Config.root_path)\n",
    "\n",
    "from Python.data_processing.image_tools import create_greyscale_masks\n",
    "from Python.data_processing.image_tools import split_png_images_in_four_from_dir\n",
    "from Python.data_processing.image_tools import load_image_dir_to_array\n",
    "from Python.data_processing.utils import create_weight_map\n",
    "from Python.data_processing.save_model import write_dict_to_disk"
   ]
  },
  {
   "attachments": {},
   "cell_type": "markdown",
   "metadata": {},
   "source": [
    "### Step 1\n",
    "Covert masks from categorical RGB encoding to categorical greyscale encoding "
   ]
  },
  {
   "cell_type": "code",
   "execution_count": 4,
   "metadata": {},
   "outputs": [],
   "source": [
    "# Path to directory containing RGB encoded segmentation masks\n",
    "rgb_mask_path = os.path.join(\n",
    "    Config.root_path,\n",
    "    r\"Data/Priddy_raw/SegmentationClass\"\n",
    ")\n",
    "# Path to output directory for categorical greyscale segmentation masks\n",
    "output_mask_path = os.path.join(\n",
    "    Config.root_path,\n",
    "    r\"Data/Priddy_processed/SegmentationClass_categorical\"\n",
    ")\n",
    "# Path to json file containing class <-> RGB conversions\n",
    "class_rgb_path = os.path.join(\n",
    "    Config.root_path,\n",
    "    r\"Data/Priddy_raw/class_RGB.json\"\n",
    ")\n",
    "# Path to json file containing class <-> greyscale conversions\n",
    "class_greyscale_path = os.path.join(\n",
    "    Config.root_path,\n",
    "    r\"Data/Priddy_raw/class_categorical.json\"\n",
    ")\n",
    "create_greyscale_masks(\n",
    "    rgb_mask_path, output_mask_path, class_rgb_path, class_greyscale_path\n",
    ")"
   ]
  },
  {
   "attachments": {},
   "cell_type": "markdown",
   "metadata": {},
   "source": [
    "### Step 2\n",
    "Split images into 4"
   ]
  },
  {
   "cell_type": "code",
   "execution_count": 6,
   "metadata": {},
   "outputs": [],
   "source": [
    "# Path to directory containing full size images\n",
    "image_dir_path = os.path.join(\n",
    "    Config.root_path, \n",
    "    r\"Data/Priddy_raw/JPEGImages\"\n",
    ")\n",
    "# Path to output directory for split images\n",
    "output_dir_path = os.path.join(\n",
    "    Config.root_path, \n",
    "    r\"Data/Priddy_raw/JPEGImages_512\"\n",
    ")\n",
    "split_png_images_in_four_from_dir(image_dir_path, output_dir_path)"
   ]
  },
  {
   "attachments": {},
   "cell_type": "markdown",
   "metadata": {},
   "source": [
    "### Step 3\n",
    "Create class weights from raw images and save then to a json file"
   ]
  },
  {
   "cell_type": "code",
   "execution_count": 7,
   "metadata": {},
   "outputs": [],
   "source": [
    "# Path to directory containing all greyscale categorical segmentation \n",
    "# masks\n",
    "segmentation_dir_path = os.path.join(\n",
    "    Config.root_path, \n",
    "    r\"Data/Priddy_processed/SegmentationClass_categorical\"\n",
    ")\n",
    "# Path to output location for weight map json file\n",
    "weight_map_path = os.path.join(\n",
    "    Config.root_path,\n",
    "    r\"Data/Priddy_processed/weights.json\"\n",
    ")\n",
    "mask_array, mask_filenames = load_image_dir_to_array(\n",
    "    segmentation_dir_path,\n",
    "    sorted=True\n",
    ")\n",
    "weight_map = create_weight_map(mask_array)\n",
    "write_dict_to_disk(weight_map, weight_map_path)"
   ]
  }
 ],
 "metadata": {
  "kernelspec": {
   "display_name": "tf",
   "language": "python",
   "name": "python3"
  },
  "language_info": {
   "codemirror_mode": {
    "name": "ipython",
    "version": 3
   },
   "file_extension": ".py",
   "mimetype": "text/x-python",
   "name": "python",
   "nbconvert_exporter": "python",
   "pygments_lexer": "ipython3",
   "version": "3.11.0"
  },
  "orig_nbformat": 4
 },
 "nbformat": 4,
 "nbformat_minor": 2
}
