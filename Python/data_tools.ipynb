{
 "cells": [
  {
   "cell_type": "code",
   "execution_count": null,
   "metadata": {},
   "outputs": [],
   "source": [
    "import os\n",
    "from Python.config import Config"
   ]
  },
  {
   "attachments": {},
   "cell_type": "markdown",
   "metadata": {},
   "source": [
    "Covert masks from categorical RGB encoding to categorical greyscale encoding "
   ]
  },
  {
   "cell_type": "code",
   "execution_count": null,
   "metadata": {},
   "outputs": [],
   "source": [
    "# Path to directory containing RGB encoded masks\n",
    "rgb_mask_path = r\"\"\n",
    "# Path to output directory for categorical greyscale masks\n",
    "output_mask_path = r\"\"\n",
    "# Path to json file containing class <-> RGB conversions\n",
    "class_rgb_path = r\"\"\n",
    "# Path to json file containing class <-> greyscale conversions\n",
    "class_greyscale_path = r\"\"\n",
    "\n",
    "\n"
   ]
  }
 ],
 "metadata": {
  "language_info": {
   "name": "python"
  },
  "orig_nbformat": 4
 },
 "nbformat": 4,
 "nbformat_minor": 2
}
