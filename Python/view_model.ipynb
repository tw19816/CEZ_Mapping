{
 "cells": [
  {
   "attachments": {},
   "cell_type": "markdown",
   "metadata": {},
   "source": [
    "## View Model\n",
    "### Imports"
   ]
  },
  {
   "cell_type": "code",
   "execution_count": null,
   "metadata": {},
   "outputs": [],
   "source": [
    "import sys\n",
    "import os\n",
    "from config import Config\n",
    "sys.path.append(Config.root_path)\n",
    "\n",
    "import numpy as np\n",
    "import tensorflow as tf\n",
    "# Load Model\n",
    "from Python.data_processing.compare_predictions import load_model\n",
    "# Load Dataset\n",
    "from Python.data_processing.utils import get_png_paths_from_dir\n",
    "from Python.data_processing.utils import load_weight_map\n",
    "from Python.data_processing.data_generator import generate_image_dataset_from_files\n",
    "# Print Model Prediction\n",
    "from Python.data_processing.compare_predictions import show_predictions"
   ]
  },
  {
   "attachments": {},
   "cell_type": "markdown",
   "metadata": {},
   "source": [
    "### Load Model"
   ]
  },
  {
   "cell_type": "code",
   "execution_count": null,
   "metadata": {},
   "outputs": [],
   "source": [
    "model_num = str(5)\n",
    "model_path = os.path.join(Config.model_dir_path, model_num, \"model\")\n",
    "model = load_model(model_path)"
   ]
  },
  {
   "attachments": {},
   "cell_type": "markdown",
   "metadata": {},
   "source": [
    "### Load Dataset"
   ]
  },
  {
   "cell_type": "code",
   "execution_count": null,
   "metadata": {},
   "outputs": [],
   "source": [
    "image_files = get_png_paths_from_dir(Config.image_path)\n",
    "mask_files = get_png_paths_from_dir(Config.segmentation_path)\n",
    "weight_map = load_weight_map(Config.weight_map_path)\n",
    "weights = np.zeros(Config.output_channels, dtype=float)\n",
    "for key in weight_map.keys():\n",
    "    weights[int(key)] = weight_map.get(key)\n",
    "\n",
    "dataset = generate_image_dataset_from_files(\n",
    "    image_files, \n",
    "    mask_files, \n",
    "    Config.batch_size,\n",
    "    tf.data.AUTOTUNE, \n",
    "    Config.shuffle_size, \n",
    "    weights\n",
    ")"
   ]
  },
  {
   "attachments": {},
   "cell_type": "markdown",
   "metadata": {},
   "source": [
    "### Compare Image, Segmentation Mask and Prediction"
   ]
  },
  {
   "cell_type": "code",
   "execution_count": null,
   "metadata": {},
   "outputs": [],
   "source": [
    "show_predictions(model, dataset)"
   ]
  }
 ],
 "metadata": {
  "language_info": {
   "name": "python"
  },
  "orig_nbformat": 4
 },
 "nbformat": 4,
 "nbformat_minor": 2
}
