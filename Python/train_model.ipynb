{
 "cells": [
  {
   "attachments": {},
   "cell_type": "markdown",
   "metadata": {},
   "source": [
    "# Train Model"
   ]
  },
  {
   "attachments": {},
   "cell_type": "markdown",
   "metadata": {},
   "source": [
    "### Imports"
   ]
  },
  {
   "cell_type": "code",
   "execution_count": null,
   "metadata": {},
   "outputs": [],
   "source": [
    "import sys\n",
    "import os\n",
    "from config import Config\n",
    "sys.path.append(Config.root_path)\n",
    "\n",
    "import importlib\n",
    "import tensorflow as tf\n",
    "import numpy as np\n",
    "import matplotlib.pyplot as plt\n",
    "# Load Model\n",
    "from Python.model.segmentation_model import deeplabv3plus\n",
    "# Load Dataset & Preprocessing\n",
    "from Python.data_processing.utils import get_png_paths_from_dir\n",
    "from Python.data_processing.utils import load_weight_map\n",
    "from Python.data_processing.utils import split_dataset_paths\n",
    "from Python.data_processing.data_generator import generate_image_dataset_from_files\n",
    "from Python.data_processing.data_generator import augment_dataset\n",
    "# Print Model Prediction\n",
    "from Python.data_processing.compare_predictions import show_predictions\n",
    "# Save Model\n",
    "from Python.data_processing.save_model import write_model_to_disk\n",
    "\n",
    "\n",
    "print(tf.config.list_physical_devices('GPU'))"
   ]
  },
  {
   "attachments": {},
   "cell_type": "markdown",
   "metadata": {},
   "source": [
    "### Prepare dataset"
   ]
  },
  {
   "cell_type": "code",
   "execution_count": null,
   "metadata": {},
   "outputs": [],
   "source": [
    "image_files = get_png_paths_from_dir(Config.image_path)\n",
    "mask_files = get_png_paths_from_dir(Config.segmentation_path)\n",
    "weight_map = load_weight_map(Config.weight_map_path)\n",
    "weights = np.zeros(Config.output_channels, dtype=float)\n",
    "for key in weight_map.keys():\n",
    "    weights[int(key)] = weight_map.get(key)\n",
    "\n",
    "train_files, val_files, test_files = split_dataset_paths(\n",
    "    image_files, \n",
    "    mask_files, \n",
    "    Config.train_size, \n",
    "    Config.val_size, \n",
    "    Config.test_size \n",
    ")\n",
    "train_dataset, val_dataset, test_dataset = [\n",
    "    generate_image_dataset_from_files(\n",
    "        img_files, \n",
    "        msk_files,\n",
    "        Config.batch_size,\n",
    "        tf.data.AUTOTUNE, \n",
    "        Config.shuffle_size, \n",
    "        weights\n",
    "    ) for img_files, msk_files in [train_files, val_files, test_files]\n",
    "]\n",
    "train_dataset = augment_dataset(train_dataset)"
   ]
  },
  {
   "attachments": {},
   "cell_type": "markdown",
   "metadata": {},
   "source": [
    "### Load Model"
   ]
  },
  {
   "cell_type": "code",
   "execution_count": null,
   "metadata": {},
   "outputs": [],
   "source": [
    "model = deeplabv3plus(\n",
    "    Config.input_shape,\n",
    "    Config.batch_size,\n",
    "    Config.output_channels,\n",
    "    Config.channels_low,\n",
    "    Config.channels_high,\n",
    "    Config.middle_repeat\n",
    ")\n",
    "model.compile(\n",
    "    optimizer = 'adam',\n",
    "    loss = tf.keras.losses.SparseCategoricalCrossentropy(from_logits=True),\n",
    "    metrics = [\"accuracy\"]\n",
    ")"
   ]
  },
  {
   "attachments": {},
   "cell_type": "markdown",
   "metadata": {},
   "source": [
    "### Compare Image, Segmentation Mask and Prediction"
   ]
  },
  {
   "cell_type": "code",
   "execution_count": null,
   "metadata": {},
   "outputs": [],
   "source": [
    "show_predictions(model, val_dataset)"
   ]
  },
  {
   "attachments": {},
   "cell_type": "markdown",
   "metadata": {},
   "source": [
    "### Model Training"
   ]
  },
  {
   "attachments": {},
   "cell_type": "markdown",
   "metadata": {},
   "source": [
    "Train Model"
   ]
  },
  {
   "cell_type": "code",
   "execution_count": null,
   "metadata": {},
   "outputs": [],
   "source": [
    "# Update any changes to Config\n",
    "importlib.reload(sys.modules[\"config\"])\n",
    "from config import Config\n",
    "# Train model\n",
    "model_history = model.fit(\n",
    "    train_dataset,\n",
    "    epochs=Config.epochs,\n",
    "    validation_data=val_dataset,\n",
    "    shuffle=True\n",
    ") "
   ]
  },
  {
   "attachments": {},
   "cell_type": "markdown",
   "metadata": {},
   "source": [
    "Show Model Performance"
   ]
  },
  {
   "cell_type": "code",
   "execution_count": null,
   "metadata": {},
   "outputs": [],
   "source": [
    "loss = model_history.history['loss']\n",
    "val_loss = model_history.history['val_loss']\n",
    "\n",
    "plt.figure()\n",
    "plt.plot(model_history.epoch, loss, 'r', label='Training accuracy')\n",
    "plt.plot(model_history.epoch, val_loss, 'bo', label='Validation accuracy')\n",
    "plt.title('Training and Validation Loss')\n",
    "plt.xlabel('Epoch')\n",
    "plt.ylabel('Loss Value')\n",
    "plt.ylim([0, 1])\n",
    "plt.legend()\n",
    "plt.show()"
   ]
  },
  {
   "attachments": {},
   "cell_type": "markdown",
   "metadata": {},
   "source": [
    "### Save Model"
   ]
  },
  {
   "cell_type": "code",
   "execution_count": null,
   "metadata": {},
   "outputs": [],
   "source": [
    "train_names = [os.path.split(img_path)[1] for img_path in train_files[0]]\n",
    "val_names = [os.path.split(img_path)[1] for img_path in val_files[0]]\n",
    "test_names = [os.path.split(img_path)[1] for img_path in test_files[0]]\n",
    "file_partitions = dict(\n",
    "    \"train\", train_files, \"validation\", val_files, \"test\", test_files\n",
    ")\n",
    "write_model_to_disk(\n",
    "    model, model_history, file_partitions, Config.model_dir_path, Config\n",
    ")"
   ]
  }
 ],
 "metadata": {
  "kernelspec": {
   "display_name": "tf",
   "language": "python",
   "name": "python3"
  },
  "language_info": {
   "codemirror_mode": {
    "name": "ipython",
    "version": 3
   },
   "file_extension": ".py",
   "mimetype": "text/x-python",
   "name": "python",
   "nbconvert_exporter": "python",
   "pygments_lexer": "ipython3",
   "version": "3.10.9"
  },
  "orig_nbformat": 4,
  "vscode": {
   "interpreter": {
    "hash": "77e7eb8bbb702952f207ff84418ce65eb0fc20dd453cd9311695e8522a1fe0bb"
   }
  }
 },
 "nbformat": 4,
 "nbformat_minor": 2
}
