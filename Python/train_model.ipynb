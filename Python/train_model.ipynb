{
 "cells": [
  {
   "cell_type": "code",
   "execution_count": 1,
   "metadata": {},
   "outputs": [
    {
     "name": "stderr",
     "output_type": "stream",
     "text": [
      "2023-03-29 13:30:30.475588: I tensorflow/core/platform/cpu_feature_guard.cc:182] This TensorFlow binary is optimized to use available CPU instructions in performance-critical operations.\n",
      "To enable the following instructions: AVX2 FMA, in other operations, rebuild TensorFlow with the appropriate compiler flags.\n",
      "2023-03-29 13:30:31.271223: W tensorflow/compiler/tf2tensorrt/utils/py_utils.cc:38] TF-TRT Warning: Could not find TensorRT\n"
     ]
    },
    {
     "name": "stdout",
     "output_type": "stream",
     "text": [
      "[PhysicalDevice(name='/physical_device:GPU:0', device_type='GPU')]\n"
     ]
    },
    {
     "name": "stderr",
     "output_type": "stream",
     "text": [
      "2023-03-29 13:30:33.145342: I tensorflow/compiler/xla/stream_executor/cuda/cuda_gpu_executor.cc:982] could not open file to read NUMA node: /sys/bus/pci/devices/0000:01:00.0/numa_node\n",
      "Your kernel may have been built without NUMA support.\n",
      "2023-03-29 13:30:33.221393: I tensorflow/compiler/xla/stream_executor/cuda/cuda_gpu_executor.cc:982] could not open file to read NUMA node: /sys/bus/pci/devices/0000:01:00.0/numa_node\n",
      "Your kernel may have been built without NUMA support.\n",
      "2023-03-29 13:30:33.221487: I tensorflow/compiler/xla/stream_executor/cuda/cuda_gpu_executor.cc:982] could not open file to read NUMA node: /sys/bus/pci/devices/0000:01:00.0/numa_node\n",
      "Your kernel may have been built without NUMA support.\n"
     ]
    }
   ],
   "source": [
    "import sys\n",
    "from config import Config\n",
    "sys.path.append(Config.root_path)\n",
    "\n",
    "import tensorflow as tf\n",
    "import numpy as np\n",
    "import matplotlib.pyplot as plt\n",
    "# Load Model\n",
    "from Python.model.segmentation_model import deeplabv3plus\n",
    "# Load Dataset & Preprocessing\n",
    "from Python.data_processing.utils import get_png_paths_from_dir\n",
    "from Python.data_processing.utils import load_weight_map\n",
    "from Python.data_processing.data_generator import generate_image_dataset_from_files\n",
    "from Python.data_processing.data_generator import split_dataset\n",
    "from Python.data_processing.data_generator import augment_dataset\n",
    "# Print Model Prediction\n",
    "from Python.data_processing.compare_predictions import compare_model_predictions\n",
    "# Save Model\n",
    "from Python.legacy.utils_old import write_model_to_disk\n",
    "\n",
    "\n",
    "print(tf.config.list_physical_devices('GPU'))"
   ]
  },
  {
   "cell_type": "code",
   "execution_count": 2,
   "metadata": {},
   "outputs": [
    {
     "ename": "FileNotFoundError",
     "evalue": "[Errno 2] No such file or directory: '/mnt/d/Liws/OneDrive - University of Bristol/Linux/CEZ_Mapping/Data_combined/weight_map1.json'",
     "output_type": "error",
     "traceback": [
      "\u001b[0;31m---------------------------------------------------------------------------\u001b[0m",
      "\u001b[0;31mFileNotFoundError\u001b[0m                         Traceback (most recent call last)",
      "Cell \u001b[0;32mIn[2], line 3\u001b[0m\n\u001b[1;32m      1\u001b[0m image_files \u001b[39m=\u001b[39m get_png_paths_from_dir(Config\u001b[39m.\u001b[39mimage_path)\n\u001b[1;32m      2\u001b[0m mask_files \u001b[39m=\u001b[39m get_png_paths_from_dir(Config\u001b[39m.\u001b[39msegmentation_path)\n\u001b[0;32m----> 3\u001b[0m weight_map \u001b[39m=\u001b[39m load_weight_map(Config\u001b[39m.\u001b[39;49mweight_map_path)\n\u001b[1;32m      4\u001b[0m weights \u001b[39m=\u001b[39m np\u001b[39m.\u001b[39mzeros(Config\u001b[39m.\u001b[39moutput_channels, dtype\u001b[39m=\u001b[39m\u001b[39mfloat\u001b[39m)\n\u001b[1;32m      5\u001b[0m \u001b[39mfor\u001b[39;00m key \u001b[39min\u001b[39;00m weight_map\u001b[39m.\u001b[39mkeys():\n",
      "File \u001b[0;32m/mnt/d/Liws/OneDrive - University of Bristol/Linux/CEZ_Mapping/Python/data_processing/utils.py:21\u001b[0m, in \u001b[0;36mload_weight_map\u001b[0;34m(path)\u001b[0m\n\u001b[1;32m     20\u001b[0m \u001b[39mdef\u001b[39;00m \u001b[39mload_weight_map\u001b[39m(path):\n\u001b[0;32m---> 21\u001b[0m     \u001b[39mwith\u001b[39;00m \u001b[39mopen\u001b[39;49m(path, \u001b[39m\"\u001b[39;49m\u001b[39mr\u001b[39;49m\u001b[39m\"\u001b[39;49m) \u001b[39mas\u001b[39;00m file:\n\u001b[1;32m     22\u001b[0m         weight_map \u001b[39m=\u001b[39m json\u001b[39m.\u001b[39mload(file)\n\u001b[1;32m     23\u001b[0m     keys \u001b[39m=\u001b[39m np\u001b[39m.\u001b[39marray(\u001b[39mtuple\u001b[39m(weight_map\u001b[39m.\u001b[39mkeys()), dtype\u001b[39m=\u001b[39mnp\u001b[39m.\u001b[39mfloat32)\n",
      "\u001b[0;31mFileNotFoundError\u001b[0m: [Errno 2] No such file or directory: '/mnt/d/Liws/OneDrive - University of Bristol/Linux/CEZ_Mapping/Data_combined/weight_map1.json'"
     ]
    }
   ],
   "source": [
    "image_files = get_png_paths_from_dir(Config.image_path)\n",
    "mask_files = get_png_paths_from_dir(Config.segmentation_path)\n",
    "weight_map = load_weight_map(Config.weight_map_path)\n",
    "weights = np.zeros(Config.output_channels, dtype=float)\n",
    "for key in weight_map.keys():\n",
    "    weights[int(key)] = weight_map.get(key)\n",
    "\n",
    "dataset = generate_image_dataset_from_files(\n",
    "    image_files, \n",
    "    mask_files, \n",
    "    Config.batch_size,\n",
    "    tf.data.AUTOTUNE, \n",
    "    Config.shuffle_size, \n",
    "    weights\n",
    ")\n",
    "train_dataset, val_dataset, test_dataset = split_dataset(\n",
    "    dataset, Config.train_size, Config.val_size, Config.test_size\n",
    ")\n",
    "train_dataset = augment_dataset(train_dataset)"
   ]
  },
  {
   "cell_type": "code",
   "execution_count": null,
   "metadata": {},
   "outputs": [],
   "source": [
    "model = deeplabv3plus(\n",
    "  Config.input_shape, \n",
    "  Config.batch_size, \n",
    "  Config.output_channels,\n",
    "  Config.channels_low,\n",
    "  Config.channels_high,\n",
    "  Config.middle_repeat\n",
    ")\n",
    "model.compile(\n",
    "  optimizer='adam',\n",
    "  loss = tf.keras.losses.SparseCategoricalCrossentropy(from_logits=True),\n",
    "  metrics = [\"accuracy\"]\n",
    ")"
   ]
  },
  {
   "cell_type": "code",
   "execution_count": null,
   "metadata": {},
   "outputs": [],
   "source": [
    "def create_mask(pred_mask):\n",
    "  pred_mask = tf.math.argmax(pred_mask, axis=-1)\n",
    "  pred_mask = pred_mask[..., tf.newaxis]\n",
    "  return pred_mask[0]\n",
    "\n",
    "\n",
    "def show_predictions(model, dataset=None, num=1):\n",
    "  for image, mask, weight in iter(dataset.take(num)):\n",
    "    compare_model_predictions(model, image[0], mask[0])"
   ]
  },
  {
   "cell_type": "code",
   "execution_count": null,
   "metadata": {},
   "outputs": [],
   "source": [
    "show_predictions(model, dataset, num=1)"
   ]
  },
  {
   "cell_type": "code",
   "execution_count": null,
   "metadata": {},
   "outputs": [],
   "source": [
    "model_history = model.fit(\n",
    "  train_dataset, \n",
    "  epochs=20,\n",
    "  validation_data=val_dataset,\n",
    "  shuffle=True\n",
    ")"
   ]
  },
  {
   "cell_type": "code",
   "execution_count": null,
   "metadata": {},
   "outputs": [],
   "source": [
    "loss = model_history.history['loss']\n",
    "val_loss = model_history.history['val_loss']\n",
    "\n",
    "plt.figure()\n",
    "plt.plot(model_history.epoch, loss, 'r', label='Training loss')\n",
    "plt.plot(model_history.epoch, val_loss, 'bo', label='Validation loss')\n",
    "plt.title('Training and Validation Loss')\n",
    "plt.xlabel('Epoch')\n",
    "plt.ylabel('Loss Value')\n",
    "plt.ylim([0, 1])\n",
    "plt.legend()\n",
    "plt.show()"
   ]
  },
  {
   "cell_type": "code",
   "execution_count": null,
   "metadata": {},
   "outputs": [],
   "source": [
    "write_model_to_disk(model, model_history, Config)"
   ]
  }
 ],
 "metadata": {
  "kernelspec": {
   "display_name": "tf",
   "language": "python",
   "name": "python3"
  },
  "language_info": {
   "codemirror_mode": {
    "name": "ipython",
    "version": 3
   },
   "file_extension": ".py",
   "mimetype": "text/x-python",
   "name": "python",
   "nbconvert_exporter": "python",
   "pygments_lexer": "ipython3",
   "version": "3.11.0"
  },
  "orig_nbformat": 4
 },
 "nbformat": 4,
 "nbformat_minor": 2
}
