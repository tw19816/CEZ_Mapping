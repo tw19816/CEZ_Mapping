{
 "cells": [
  {
   "cell_type": "code",
   "execution_count": null,
   "metadata": {},
   "outputs": [],
   "source": [
    "import sys\n",
    "sys.path.append(r\"/home/vidarmarsh/CEZ_Mapping\")\n",
    "\n",
    "import tensorflow as tf\n",
    "import tensorflow_datasets as tfds\n",
    "import numpy as np\n",
    "import matplotlib.pyplot as plt\n",
    "from Python.legacy.data_generator import generate_image_dataset_from_files\n",
    "from Python.legacy.data_generator import Data_Generator\n",
    "from Python.legacy.segmentation_model import deeplabv3plus\n",
    "from Python.legacy.utils import get_png_paths_from_dir\n",
    "from Python.legacy.utils import load_weight_map\n",
    "from Python.legacy.model_tools import load_model\n",
    "from Python.legacy.utils import write_model_to_disk\n",
    "from Python.legacy.data_pipeline import split_dataset\n",
    "from Python.legacy.model_tools import compare_model_predictions\n",
    "from Python.legacy.data_pipeline import augment_dataset\n",
    "from Python.legacy.config import Config\n",
    "\n",
    "print(tf.config.list_physical_devices('GPU'))"
   ]
  },
  {
   "cell_type": "code",
   "execution_count": null,
   "metadata": {},
   "outputs": [],
   "source": [
    "image_files = get_png_paths_from_dir(Config.image_path)\n",
    "mask_files = get_png_paths_from_dir(Config.segmentation_path)\n",
    "weight_map = load_weight_map(Config.weight_map_path)\n",
    "weights = np.zeros(Config.output_channels, dtype=float)\n",
    "for key in weight_map.keys():\n",
    "    weights[int(key)] = weight_map.get(key)\n",
    "\n",
    "dataset = generate_image_dataset_from_files(\n",
    "    image_files, \n",
    "    mask_files, \n",
    "    Config.batch_size, \n",
    "    Config.shuffle_size, \n",
    "    weights\n",
    ")\n",
    "train_dataset, val_dataset, test_dataset = split_dataset(\n",
    "    dataset, Config.train_size, Config.val_size, Config.test_size\n",
    ")\n",
    "train_dataset = augment_dataset(train_dataset)"
   ]
  },
  {
   "cell_type": "code",
   "execution_count": null,
   "metadata": {},
   "outputs": [],
   "source": [
    "model = deeplabv3plus(\n",
    "  Config.input_shape, \n",
    "  Config.batch_size, \n",
    "  Config.output_channels,\n",
    "  Config.channels_low,\n",
    "  Config.channels_high,\n",
    "  Config.middle_repeat\n",
    ")\n",
    "model.compile(\n",
    "  optimizer='adam',\n",
    "  loss = tf.keras.losses.SparseCategoricalCrossentropy(from_logits=True),\n",
    "  metrics = [\"accuracy\"]\n",
    ")"
   ]
  },
  {
   "cell_type": "code",
   "execution_count": null,
   "metadata": {},
   "outputs": [],
   "source": [
    "def create_mask(pred_mask):\n",
    "  pred_mask = tf.math.argmax(pred_mask, axis=-1)\n",
    "  pred_mask = pred_mask[..., tf.newaxis]\n",
    "  return pred_mask[0]\n",
    "\n",
    "\n",
    "def show_predictions(model, dataset=None, num=1):\n",
    "  for image, mask, weight in iter(dataset.take(num)):\n",
    "    compare_model_predictions(model, image[0], mask[0])"
   ]
  },
  {
   "cell_type": "code",
   "execution_count": null,
   "metadata": {},
   "outputs": [],
   "source": [
    "show_predictions(model, dataset, num=1)"
   ]
  },
  {
   "cell_type": "code",
   "execution_count": null,
   "metadata": {},
   "outputs": [],
   "source": [
    "model_history = model.fit(\n",
    "  train_dataset, \n",
    "  epochs=20,\n",
    "  validation_data=val_dataset,\n",
    "  shuffle=True\n",
    ")"
   ]
  },
  {
   "cell_type": "code",
   "execution_count": null,
   "metadata": {},
   "outputs": [],
   "source": [
    "loss = model_history.history['loss']\n",
    "val_loss = model_history.history['val_loss']\n",
    "\n",
    "plt.figure()\n",
    "plt.plot(model_history.epoch, loss, 'r', label='Training loss')\n",
    "plt.plot(model_history.epoch, val_loss, 'bo', label='Validation loss')\n",
    "plt.title('Training and Validation Loss')\n",
    "plt.xlabel('Epoch')\n",
    "plt.ylabel('Loss Value')\n",
    "plt.ylim([0, 1])\n",
    "plt.legend()\n",
    "plt.show()"
   ]
  },
  {
   "cell_type": "code",
   "execution_count": null,
   "metadata": {},
   "outputs": [],
   "source": [
    "write_model_to_disk(model, model_history, Config)"
   ]
  }
 ],
 "metadata": {
  "kernelspec": {
   "display_name": "tf",
   "language": "python",
   "name": "python3"
  },
  "language_info": {
   "codemirror_mode": {
    "name": "ipython",
    "version": 3
   },
   "file_extension": ".py",
   "mimetype": "text/x-python",
   "name": "python",
   "nbconvert_exporter": "python",
   "pygments_lexer": "ipython3",
   "version": "3.10.9"
  },
  "orig_nbformat": 4
 },
 "nbformat": 4,
 "nbformat_minor": 2
}
